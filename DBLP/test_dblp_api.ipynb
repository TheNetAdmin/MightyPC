{
 "metadata": {
  "language_info": {
   "codemirror_mode": {
    "name": "ipython",
    "version": 3
   },
   "file_extension": ".py",
   "mimetype": "text/x-python",
   "name": "python",
   "nbconvert_exporter": "python",
   "pygments_lexer": "ipython3",
   "version": "3.9.2-final"
  },
  "orig_nbformat": 2,
  "kernelspec": {
   "name": "python392jvsc74a57bd0767d51c1340bd893661ea55ea3124f6de3c7a262a8b4abca0554b478b1e2ff90",
   "display_name": "Python 3.9.2 64-bit"
  },
  "metadata": {
   "interpreter": {
    "hash": "767d51c1340bd893661ea55ea3124f6de3c7a262a8b4abca0554b478b1e2ff90"
   }
  }
 },
 "nbformat": 4,
 "nbformat_minor": 2,
 "cells": [
  {
   "cell_type": "code",
   "execution_count": 15,
   "metadata": {},
   "outputs": [],
   "source": [
    "import requests\n",
    "import bibtexparser\n",
    "from xml.etree import ElementTree"
   ]
  },
  {
   "cell_type": "code",
   "execution_count": 4,
   "metadata": {},
   "outputs": [],
   "source": [
    "url = 'https://dblp.org/pid/66/8314'"
   ]
  },
  {
   "cell_type": "code",
   "execution_count": 18,
   "metadata": {},
   "outputs": [
    {
     "output_type": "execute_result",
     "data": {
      "text/plain": [
       "<Response [200]>"
      ]
     },
     "metadata": {},
     "execution_count": 18
    }
   ],
   "source": [
    "responses = requests.get(f'{url}.bib')\n",
    "responses"
   ]
  },
  {
   "cell_type": "code",
   "execution_count": 19,
   "metadata": {},
   "outputs": [],
   "source": [
    "bib = bibtexparser.loads(responses.content)"
   ]
  },
  {
   "cell_type": "code",
   "execution_count": 25,
   "metadata": {},
   "outputs": [
    {
     "output_type": "stream",
     "name": "stdout",
     "text": [
      "{'bibsource': 'dblp computer science bibliography, https://dblp.org', 'biburl': 'https://dblp.org/rec/conf/aspdac/ShenG0ZZ21.bib', 'timestamp': 'Tue, 09 Feb 2021 09:16:32 +0100', 'doi': '10.1145/3394885.3431636', 'url': 'https://doi.org/10.1145/3394885.3431636', 'year': '2021', 'publisher': '{ACM}', 'pages': '865--871', 'booktitle': \"{ASPDAC} '21: 26th Asia and South Pacific Design Automation Conference,\\nTokyo, Japan, January 18-21, 2021\", 'title': 'A Physical-Aware Framework for Memory Network Design Space Exploration', 'author': 'Tianhao Shen and\\nDi Gao and\\nLi Zhang and\\nJishen Zhao and\\nCheng Zhuo', 'ENTRYTYPE': 'inproceedings', 'ID': 'DBLP:conf/aspdac/ShenG0ZZ21'}\nA Physical-Aware Framework for Memory Network Design Space Exploration\n"
     ]
    }
   ],
   "source": [
    "print(bib.entries[0])\n",
    "print(bib.entries[0]['title'])"
   ]
  }
 ]
}